{
 "cells": [
  {
   "cell_type": "markdown",
   "metadata": {},
   "source": [
    "### Read the data"
   ]
  },
  {
   "cell_type": "code",
   "execution_count": 16,
   "metadata": {},
   "outputs": [],
   "source": [
    "# Item-based collaborative filtering\n",
    "# \n",
    "# References\n",
    "#\n",
    "# [1] M.Deshpande and G. Karypis. Item-based top-n recommendation algorithms. ACM Trans. Inf. Syst., 22(1):143-177, 2004.\n",
    "# [2] B.M. Sarwar, G. Karypis, J.A. Konstan, and J. Reidl. Item-based collaborative filtering recommendation algorithms. In Proceedings of the 10th International World Wide Web Conference, pages 285-295, 2001.\n",
    "# [3] http://www.awesomestats.in/python-recommending-movies/"
   ]
  },
  {
   "cell_type": "code",
   "execution_count": 17,
   "metadata": {},
   "outputs": [],
   "source": [
    "import numpy\n",
    "import pandas as pd\n",
    "\n",
    "# read data\n",
    "rating_df = pd.read_csv('data/ml-100k/u.data', sep='\\t', names=['user', 'item', 'rate', 'time'])\n",
    "numpy.random.seed(42)\n",
    "msk = numpy.random.rand(len(rating_df)) < 0.7\n",
    "rating_df_train = rating_df[msk]\n",
    "rating_df_test = rating_df[~msk]"
   ]
  },
  {
   "cell_type": "markdown",
   "metadata": {},
   "source": [
    "### Build movies similarity matrix"
   ]
  },
  {
   "cell_type": "code",
   "execution_count": 18,
   "metadata": {},
   "outputs": [],
   "source": [
    "from sklearn.metrics import pairwise_distances\n",
    "from scipy.spatial.distance import cosine, correlation\n",
    "\n",
    "# TASK 1: compute movies similarities\n",
    "# HINT: use the pairwise_distance method (and the correlation metric)\n",
    "#\n",
    "def compute_movies_similarities (method='cosine'):\n",
    "    \"\"\" compute the similarity between movies.  output a dataframe.\n",
    "    \"\"\"\n",
    "    rating_mat = rating_df.pivot( index='item', columns='user', values = \"rate\" ).reset_index(drop=True)\n",
    "    if method == 'adjusted_cosine':\n",
    "        rating_mat_avg = rating_mat.mean(axis=1)\n",
    "        rating_mat -= rating_mat_avg\n",
    "    if method == 'pearson':\n",
    "        rating_mat_avg = rating_mat.mean(axis=0)\n",
    "        rating_mat -= rating_mat_avg\n",
    "    rating_mat.fillna( 0, inplace = True )\n",
    "    movie_sim = 1 - pairwise_distances( rating_mat.as_matrix(), metric=\"correlation\" )\n",
    "    # bonus point: disregard similarities when less than N users are in common\n",
    "    return pd.DataFrame( movie_sim )"
   ]
  },
  {
   "cell_type": "code",
   "execution_count": null,
   "metadata": {},
   "outputs": [],
   "source": []
  },
  {
   "cell_type": "code",
   "execution_count": 19,
   "metadata": {},
   "outputs": [],
   "source": [
    "# TASK 2: find top-k similar movies to a given movie\n",
    "# HINT:   use the sort_values method\n",
    "#\n",
    "def get_similar_movies( sim_df, movieid, topN = 5 ):\n",
    "    \"\"\" get top-N similar movies given an input movie (movieid) and a similarity matrix (sim_df)\n",
    "        sim_df is the output of compute_movies_similarities()\n",
    "    \"\"\"\n",
    "    movies_df = pd.read_csv( \"data/ml-100k/u.item\", delimiter = '\\|', header = None, engine='python' )\n",
    "    movies_df = movies_df.iloc[:,:2]\n",
    "    movies_df.columns = ['movieid', 'title']\n",
    "    movies_df['similarity'] = sim_df.iloc[movieid -1]\n",
    "    movies_df.columns = ['movieid', 'title', 'similarity']\n",
    "    top_n = movies_df.sort_values( [\"similarity\"], ascending = False )[0:topN]\n",
    "    return top_n"
   ]
  },
  {
   "cell_type": "code",
   "execution_count": 20,
   "metadata": {},
   "outputs": [],
   "source": [
    "movie_sim_df = compute_movies_similarities()"
   ]
  },
  {
   "cell_type": "code",
   "execution_count": 21,
   "metadata": {},
   "outputs": [
    {
     "data": {
      "text/html": [
       "<div>\n",
       "<style scoped>\n",
       "    .dataframe tbody tr th:only-of-type {\n",
       "        vertical-align: middle;\n",
       "    }\n",
       "\n",
       "    .dataframe tbody tr th {\n",
       "        vertical-align: top;\n",
       "    }\n",
       "\n",
       "    .dataframe thead th {\n",
       "        text-align: right;\n",
       "    }\n",
       "</style>\n",
       "<table border=\"1\" class=\"dataframe\">\n",
       "  <thead>\n",
       "    <tr style=\"text-align: right;\">\n",
       "      <th></th>\n",
       "      <th>movieid</th>\n",
       "      <th>title</th>\n",
       "      <th>similarity</th>\n",
       "    </tr>\n",
       "  </thead>\n",
       "  <tbody>\n",
       "    <tr>\n",
       "      <th>6</th>\n",
       "      <td>7</td>\n",
       "      <td>Twelve Monkeys (1995)</td>\n",
       "      <td>1.000000</td>\n",
       "    </tr>\n",
       "    <tr>\n",
       "      <th>99</th>\n",
       "      <td>100</td>\n",
       "      <td>Fargo (1996)</td>\n",
       "      <td>0.448059</td>\n",
       "    </tr>\n",
       "    <tr>\n",
       "      <th>116</th>\n",
       "      <td>117</td>\n",
       "      <td>Rock, The (1996)</td>\n",
       "      <td>0.423510</td>\n",
       "    </tr>\n",
       "    <tr>\n",
       "      <th>55</th>\n",
       "      <td>56</td>\n",
       "      <td>Pulp Fiction (1994)</td>\n",
       "      <td>0.392567</td>\n",
       "    </tr>\n",
       "    <tr>\n",
       "      <th>10</th>\n",
       "      <td>11</td>\n",
       "      <td>Seven (Se7en) (1995)</td>\n",
       "      <td>0.391409</td>\n",
       "    </tr>\n",
       "    <tr>\n",
       "      <th>150</th>\n",
       "      <td>151</td>\n",
       "      <td>Willy Wonka and the Chocolate Factory (1971)</td>\n",
       "      <td>0.389149</td>\n",
       "    </tr>\n",
       "    <tr>\n",
       "      <th>239</th>\n",
       "      <td>240</td>\n",
       "      <td>Beavis and Butt-head Do America (1996)</td>\n",
       "      <td>0.380095</td>\n",
       "    </tr>\n",
       "    <tr>\n",
       "      <th>272</th>\n",
       "      <td>273</td>\n",
       "      <td>Heat (1995)</td>\n",
       "      <td>0.379296</td>\n",
       "    </tr>\n",
       "    <tr>\n",
       "      <th>404</th>\n",
       "      <td>405</td>\n",
       "      <td>Mission: Impossible (1996)</td>\n",
       "      <td>0.369299</td>\n",
       "    </tr>\n",
       "    <tr>\n",
       "      <th>23</th>\n",
       "      <td>24</td>\n",
       "      <td>Rumble in the Bronx (1995)</td>\n",
       "      <td>0.365520</td>\n",
       "    </tr>\n",
       "  </tbody>\n",
       "</table>\n",
       "</div>"
      ],
      "text/plain": [
       "     movieid                                         title  similarity\n",
       "6          7                         Twelve Monkeys (1995)    1.000000\n",
       "99       100                                  Fargo (1996)    0.448059\n",
       "116      117                              Rock, The (1996)    0.423510\n",
       "55        56                           Pulp Fiction (1994)    0.392567\n",
       "10        11                          Seven (Se7en) (1995)    0.391409\n",
       "150      151  Willy Wonka and the Chocolate Factory (1971)    0.389149\n",
       "239      240        Beavis and Butt-head Do America (1996)    0.380095\n",
       "272      273                                   Heat (1995)    0.379296\n",
       "404      405                    Mission: Impossible (1996)    0.369299\n",
       "23        24                    Rumble in the Bronx (1995)    0.365520"
      ]
     },
     "execution_count": 21,
     "metadata": {},
     "output_type": "execute_result"
    }
   ],
   "source": [
    "get_similar_movies (movie_sim_df, 7, 10)"
   ]
  },
  {
   "cell_type": "markdown",
   "metadata": {},
   "source": [
    "### Predicting ratings"
   ]
  },
  {
   "cell_type": "code",
   "execution_count": 22,
   "metadata": {},
   "outputs": [],
   "source": [
    "def pivot_data (df):\n",
    "    \"\"\" pivot a rating dataset to index data by item x user\n",
    "    \"\"\"\n",
    "    return df.pivot( index='item', columns='user', values = \"rate\" ).reset_index(drop=True)"
   ]
  },
  {
   "cell_type": "code",
   "execution_count": 23,
   "metadata": {},
   "outputs": [],
   "source": [
    "def get_rating (df_pivoted, user, item):\n",
    "    \"\"\" fetch a user x item rating.  return NaN if it does not exist\n",
    "        df_pivoted is the output of pivot_data()\n",
    "     \"\"\"\n",
    "    try:\n",
    "        df_pivoted.iloc [item-1][user]\n",
    "    except:\n",
    "        return numpy.nan\n",
    "    return df_pivoted.iloc [item-1][user]"
   ]
  },
  {
   "cell_type": "code",
   "execution_count": 24,
   "metadata": {},
   "outputs": [],
   "source": [
    "def rmse(predictions, targets):\n",
    "    \"\"\" compute the RMSE between predictions and targets \n",
    "    \"\"\"\n",
    "    return numpy.sqrt(((numpy.asarray(predictions) - numpy.asarray(targets)) ** 2).mean())"
   ]
  },
  {
   "cell_type": "code",
   "execution_count": 25,
   "metadata": {},
   "outputs": [],
   "source": [
    "# TASK 3: predict rating for user x item\n",
    "# HINT:   iterate over similar movies, get their rating and compute the predicted rating\n",
    "#         use the following methods: get_similar_movies, get_rating\n",
    "#\n",
    "def predict_rating (rating_df_pivoted, movie_sim_df, user_id, item_id):\n",
    "    \"\"\" predict rating for a user (user_id) and a movie (item_id) given:\n",
    "        - movie_sim_df: movie similarities, as output by compute_movies_similarities()\n",
    "        - rating_df_pivoted: a pivoted version of the rating data, as output by pivot_data()\n",
    "    \"\"\"\n",
    "    similar_movies = get_similar_movies (movie_sim_df, item_id, 10)\n",
    "    sim_ratings = []\n",
    "    sim_scores = []\n",
    "    for row2 in similar_movies[1:].itertuples(): # use 1: to skip obvious similar movie (itself)\n",
    "        _, item_id_2, _, similarity = row2\n",
    "        sim_rating = get_rating (rating_df_pivoted, user_id, item_id_2) # random.randint(1,5)\n",
    "        if not numpy.isnan (sim_rating):\n",
    "            sim_ratings.append (sim_rating)\n",
    "            sim_scores.append (similarity)\n",
    "    if len(sim_ratings) > 0:\n",
    "            return numpy.dot(sim_ratings, sim_scores) / numpy.sum (sim_scores)\n",
    "    return numpy.nan"
   ]
  },
  {
   "cell_type": "code",
   "execution_count": 26,
   "metadata": {},
   "outputs": [],
   "source": [
    "# TASK 4: evaluate the rating prediction on the testing set\n",
    "# HINT:   use the predict_rating and rmse methods\n",
    "#\n",
    "def evaluate (rating_df_pivoted, movie_sim_df, num_ratings):\n",
    "    \"\"\" predict ratings for the testing set and compute RMSE\n",
    "    \"\"\"\n",
    "    predicted_ratings = []\n",
    "    true_ratings = []\n",
    "    for row in rating_df_test[:num_ratings].itertuples():\n",
    "        _, user_id, item_id, rating, _ = row\n",
    "        predicted_rating = predict_rating (rating_df_pivoted, movie_sim_df, user_id, item_id)\n",
    "        if not numpy.isnan (predicted_rating):\n",
    "            predicted_ratings.append (predicted_rating)\n",
    "            true_ratings.append (rating)\n",
    "\n",
    "    rmse_val = rmse (predicted_ratings, true_ratings)\n",
    "    return (rmse_val, len(predicted_ratings))\n"
   ]
  },
  {
   "cell_type": "code",
   "execution_count": null,
   "metadata": {},
   "outputs": [],
   "source": []
  },
  {
   "cell_type": "code",
   "execution_count": 27,
   "metadata": {},
   "outputs": [
    {
     "name": "stdout",
     "output_type": "stream",
     "text": [
      "1.0098831809090643 903\n",
      "1.0238954576222492 612\n",
      "0.9547451974524848 480\n"
     ]
    }
   ],
   "source": [
    "rating_df_train_pivoted = pivot_data (rating_df_train)\n",
    "rating_df_pivoted = pivot_data(rating_df)\n",
    "\n",
    "movie_sim_df_cosine = compute_movies_similarities()\n",
    "movie_sim_df_pearson = compute_movies_similarities('pearson')\n",
    "movie_sim_df_adjusted_cosine = compute_movies_similarities('adjusted_cosine')\n",
    "\n",
    "num_ratings = 1000\n",
    "(rmse_val, num_ratings) = evaluate (rating_df_train_pivoted, movie_sim_df_cosine, num_ratings)\n",
    "print (rmse_val, num_ratings)\n",
    "(rmse_val, num_ratings) = evaluate (rating_df_train_pivoted, movie_sim_df_pearson, num_ratings)\n",
    "print (rmse_val, num_ratings)\n",
    "(rmse_val, num_ratings) = evaluate (rating_df_train_pivoted, movie_sim_df_adjusted_cosine, num_ratings)\n",
    "print (rmse_val, num_ratings)\n"
   ]
  },
  {
   "cell_type": "code",
   "execution_count": null,
   "metadata": {},
   "outputs": [],
   "source": []
  }
 ],
 "metadata": {
  "kernelspec": {
   "display_name": "Python 3",
   "language": "python",
   "name": "python3"
  },
  "language_info": {
   "codemirror_mode": {
    "name": "ipython",
    "version": 3
   },
   "file_extension": ".py",
   "mimetype": "text/x-python",
   "name": "python",
   "nbconvert_exporter": "python",
   "pygments_lexer": "ipython3",
   "version": "3.6.4"
  }
 },
 "nbformat": 4,
 "nbformat_minor": 2
}
